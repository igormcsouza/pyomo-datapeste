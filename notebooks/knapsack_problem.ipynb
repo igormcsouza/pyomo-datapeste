{
 "cells": [
  {
   "cell_type": "markdown",
   "metadata": {},
   "source": [
    "## Problema da Mochila (Seleção de Projetos para Investimento)"
   ]
  },
  {
   "cell_type": "code",
   "execution_count": 40,
   "metadata": {},
   "outputs": [],
   "source": [
    "import pyomo.environ as pyEnv\n",
    "import numpy as np"
   ]
  },
  {
   "cell_type": "code",
   "execution_count": 41,
   "metadata": {},
   "outputs": [],
   "source": [
    "capital = 67\n",
    "cost_inv = np.array([23, 26, 20, 18, 32, 27, 29, 26, 30, 27])\n",
    "return_inv = np.array([505, 352, 458, 220, 354, 414, 498, 545, 473, 543])"
   ]
  },
  {
   "cell_type": "code",
   "execution_count": 42,
   "metadata": {},
   "outputs": [],
   "source": [
    "model = pyEnv.ConcreteModel()"
   ]
  },
  {
   "cell_type": "code",
   "execution_count": 43,
   "metadata": {},
   "outputs": [],
   "source": [
    "model.cost_range = pyEnv.RangeSet(len(cost_inv))\n",
    "model.return_range = pyEnv.RangeSet(len(cost_inv))"
   ]
  },
  {
   "cell_type": "code",
   "execution_count": 44,
   "metadata": {},
   "outputs": [],
   "source": [
    "model.cost_inv = pyEnv.Param(model.cost_range, initialize = lambda model, i: cost_inv[i-1])\n",
    "model.return_inv = pyEnv.Param(model.return_range, initialize = lambda model, i: return_inv[i-1])"
   ]
  },
  {
   "cell_type": "code",
   "execution_count": 45,
   "metadata": {},
   "outputs": [],
   "source": [
    "# Definindo as variáveis x\n",
    "model.x = pyEnv.Var(model.return_range, within = pyEnv.Binary)"
   ]
  },
  {
   "cell_type": "code",
   "execution_count": 46,
   "metadata": {},
   "outputs": [],
   "source": [
    "# Função Objetivo\n",
    "def obj(model):\n",
    "    return sum(model.return_inv[i] * model.x[i] for i in model.return_range)\n",
    "\n",
    "model.obj = pyEnv.Objective(rule = obj, sense = pyEnv.maximize)"
   ]
  },
  {
   "cell_type": "code",
   "execution_count": 47,
   "metadata": {},
   "outputs": [],
   "source": [
    "# Restrição de Capital\n",
    "def capital_cons(model, i):\n",
    "    return sum(model.cost_inv[i] * model.x[i] for i in model.cost_range) <= capital\n",
    "\n",
    "model.capital_cons = pyEnv.Constraint(model.cost_range, rule = capital_cons)"
   ]
  },
  {
   "cell_type": "code",
   "execution_count": 48,
   "metadata": {},
   "outputs": [
    {
     "name": "stdout",
     "output_type": "stream",
     "text": [
      "# ==========================================================\n",
      "# = Solver Results                                         =\n",
      "# ==========================================================\n",
      "# ----------------------------------------------------------\n",
      "#   Problem Information\n",
      "# ----------------------------------------------------------\n",
      "Problem: \n",
      "- Name: \n",
      "  Lower bound: 1270.0\n",
      "  Upper bound: 1270.0\n",
      "  Number of objectives: 1\n",
      "  Number of constraints: 10\n",
      "  Number of variables: 10\n",
      "  Number of binary variables: 10\n",
      "  Number of integer variables: 0\n",
      "  Number of continuous variables: 0\n",
      "  Number of nonzeros: None\n",
      "  Sense: -1\n",
      "# ----------------------------------------------------------\n",
      "#   Solver Information\n",
      "# ----------------------------------------------------------\n",
      "Solver: \n",
      "- Name: CPLEX 12.10.0.0\n",
      "  Status: ok\n",
      "  Wallclock time: 0.0700387954711914\n",
      "  Termination condition: optimal\n",
      "# ----------------------------------------------------------\n",
      "#   Solution Information\n",
      "# ----------------------------------------------------------\n",
      "Solution: \n",
      "- number of solutions: 0\n",
      "  number of solutions displayed: 0\n"
     ]
    }
   ],
   "source": [
    "# Resolvendo o problema\n",
    "path = '/home/helano-pessoa/Softwares/Cplex-12.10/cplex/bin/x86-64_linux/cplex'\n",
    "opt = pyEnv.SolverFactory(\"cplex\", solver_io = \"python\", executable = path)\n",
    "results = opt.solve(model)\n",
    "results.write()"
   ]
  },
  {
   "cell_type": "code",
   "execution_count": 49,
   "metadata": {},
   "outputs": [
    {
     "name": "stdout",
     "output_type": "stream",
     "text": [
      "x : Size=10, Index=return_range\n",
      "    Key : Lower : Value : Upper : Fixed : Stale : Domain\n",
      "      1 :     0 :   1.0 :     1 : False : False : Binary\n",
      "      2 :     0 :   0.0 :     1 : False : False : Binary\n",
      "      3 :     0 :   0.0 :     1 : False : False : Binary\n",
      "      4 :     0 :   1.0 :     1 : False : False : Binary\n",
      "      5 :     0 :   0.0 :     1 : False : False : Binary\n",
      "      6 :     0 :   0.0 :     1 : False : False : Binary\n",
      "      7 :     0 :   0.0 :     1 : False : False : Binary\n",
      "      8 :     0 :   1.0 :     1 : False : False : Binary\n",
      "      9 :     0 :   0.0 :     1 : False : False : Binary\n",
      "     10 :     0 :   0.0 :     1 : False : False : Binary\n"
     ]
    }
   ],
   "source": [
    "# Quais projetos devo investir para obter o maior retorno possível?\n",
    "model.x.display()"
   ]
  },
  {
   "cell_type": "code",
   "execution_count": 50,
   "metadata": {},
   "outputs": [
    {
     "name": "stdout",
     "output_type": "stream",
     "text": [
      "obj : Size=1, Index=None, Active=True\n",
      "    Key  : Active : Value\n",
      "    None :   True : 1270.0\n"
     ]
    }
   ],
   "source": [
    "# Quanto terei de retorno do meu investimento?\n",
    "model.obj.display()"
   ]
  },
  {
   "cell_type": "code",
   "execution_count": null,
   "metadata": {},
   "outputs": [],
   "source": []
  }
 ],
 "metadata": {
  "kernelspec": {
   "display_name": "Python 3",
   "language": "python",
   "name": "python3"
  },
  "language_info": {
   "codemirror_mode": {
    "name": "ipython",
    "version": 3
   },
   "file_extension": ".py",
   "mimetype": "text/x-python",
   "name": "python",
   "nbconvert_exporter": "python",
   "pygments_lexer": "ipython3",
   "version": "3.7.7"
  }
 },
 "nbformat": 4,
 "nbformat_minor": 4
}
