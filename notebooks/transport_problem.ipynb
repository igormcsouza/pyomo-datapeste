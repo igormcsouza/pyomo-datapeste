{
 "cells": [
  {
   "cell_type": "markdown",
   "metadata": {},
   "source": [
    "## Problema de Transporte"
   ]
  },
  {
   "cell_type": "code",
   "execution_count": 1,
   "metadata": {},
   "outputs": [],
   "source": [
    "import pyomo.environ as pyEnv\n",
    "import numpy as np"
   ]
  },
  {
   "cell_type": "code",
   "execution_count": 2,
   "metadata": {},
   "outputs": [],
   "source": [
    "model = pyEnv.ConcreteModel()"
   ]
  },
  {
   "cell_type": "code",
   "execution_count": 3,
   "metadata": {},
   "outputs": [],
   "source": [
    "model.suppliers = pyEnv.RangeSet(2)\n",
    "model.consumers = pyEnv.RangeSet(3)"
   ]
  },
  {
   "cell_type": "code",
   "execution_count": 4,
   "metadata": {},
   "outputs": [],
   "source": [
    "# Definindo custo\n",
    "cost = np.array([3, 5, 7, 3, 2, 5]).reshape(2,3)\n",
    "model.cost = pyEnv.Param(model.suppliers, model.consumers, initialize = lambda model, i, j: cost[i-1][j-1])\n",
    "\n",
    "capacity = np.array([25, 35])\n",
    "model.capacity = pyEnv.Param(model.suppliers, initialize = lambda model, i: capacity[i-1])\n",
    "\n",
    "demand = [20, 30, 10]\n",
    "model.demand = pyEnv.Param(model.consumers, initialize = lambda model, j: demand[j-1])"
   ]
  },
  {
   "cell_type": "code",
   "execution_count": 5,
   "metadata": {},
   "outputs": [],
   "source": [
    "# Definindo as variáveis x\n",
    "model.x = pyEnv.Var(model.suppliers, model.consumers, within = pyEnv.NonNegativeReals)"
   ]
  },
  {
   "cell_type": "code",
   "execution_count": 6,
   "metadata": {},
   "outputs": [],
   "source": [
    "# Função Objetivo\n",
    "def obj(model):\n",
    "    return sum(model.cost[i,j] * model.x[i,j] for i in model.suppliers for j in model.consumers)\n",
    "\n",
    "model.obj = pyEnv.Objective(rule = obj, sense = pyEnv.minimize)"
   ]
  },
  {
   "cell_type": "code",
   "execution_count": 7,
   "metadata": {},
   "outputs": [],
   "source": [
    "# Restrição de Demanda\n",
    "def capacity_cons(model, i):\n",
    "    return sum(model.x[i,j] for j in model.consumers) <= model.capacity[i]\n",
    "\n",
    "model.capacity_cons = pyEnv.Constraint(model.suppliers, rule = capacity_cons)"
   ]
  },
  {
   "cell_type": "code",
   "execution_count": 8,
   "metadata": {},
   "outputs": [],
   "source": [
    "# Restrição de Capacidade\n",
    "def demand_cons(model, j):\n",
    "    return sum(model.x[i,j] for i in model.suppliers) == model.demand[j]\n",
    "\n",
    "model.demand_cons = pyEnv.Constraint(model.consumers, rule = demand_cons)"
   ]
  },
  {
   "cell_type": "code",
   "execution_count": 9,
   "metadata": {},
   "outputs": [
    {
     "name": "stdout",
     "output_type": "stream",
     "text": [
      "# ==========================================================\n",
      "# = Solver Results                                         =\n",
      "# ==========================================================\n",
      "# ----------------------------------------------------------\n",
      "#   Problem Information\n",
      "# ----------------------------------------------------------\n",
      "Problem: \n",
      "- Name: \n",
      "  Lower bound: 180.0\n",
      "  Upper bound: 180.0\n",
      "  Number of objectives: 1\n",
      "  Number of constraints: 5\n",
      "  Number of variables: 6\n",
      "  Number of binary variables: 0\n",
      "  Number of integer variables: 0\n",
      "  Number of continuous variables: 6\n",
      "  Number of nonzeros: None\n",
      "  Sense: 1\n",
      "# ----------------------------------------------------------\n",
      "#   Solver Information\n",
      "# ----------------------------------------------------------\n",
      "Solver: \n",
      "- Name: CPLEX 12.10.0.0\n",
      "  Status: ok\n",
      "  Wallclock time: 0.0005705356597900391\n",
      "  Termination condition: optimal\n",
      "# ----------------------------------------------------------\n",
      "#   Solution Information\n",
      "# ----------------------------------------------------------\n",
      "Solution: \n",
      "- number of solutions: 0\n",
      "  number of solutions displayed: 0\n"
     ]
    }
   ],
   "source": [
    "# Resolvendo o problema\n",
    "path = '/home/helano-pessoa/Softwares/Cplex-12.10/cplex/bin/x86-64_linux/cplex'\n",
    "opt = pyEnv.SolverFactory(\"cplex\", solver_io = \"python\", executable = path)\n",
    "results = opt.solve(model)\n",
    "results.write()"
   ]
  },
  {
   "cell_type": "code",
   "execution_count": 10,
   "metadata": {},
   "outputs": [
    {
     "name": "stdout",
     "output_type": "stream",
     "text": [
      "obj : Size=1, Index=None, Active=True\n",
      "    Key  : Active : Sense    : Expression\n",
      "    None :   True : minimize : 3*x[1,1] + 5*x[1,2] + 7*x[1,3] + 3*x[2,1] + 2*x[2,2] + 5*x[2,3]\n"
     ]
    }
   ],
   "source": [
    "model.obj.pprint()"
   ]
  },
  {
   "cell_type": "code",
   "execution_count": 11,
   "metadata": {},
   "outputs": [
    {
     "name": "stdout",
     "output_type": "stream",
     "text": [
      "capacity_cons : Size=2, Index=suppliers, Active=True\n",
      "    Key : Lower : Body                     : Upper : Active\n",
      "      1 :  -Inf : x[1,1] + x[1,2] + x[1,3] :  25.0 :   True\n",
      "      2 :  -Inf : x[2,1] + x[2,2] + x[2,3] :  35.0 :   True\n"
     ]
    }
   ],
   "source": [
    "model.capacity_cons.pprint()"
   ]
  },
  {
   "cell_type": "code",
   "execution_count": 12,
   "metadata": {},
   "outputs": [
    {
     "name": "stdout",
     "output_type": "stream",
     "text": [
      "demand_cons : Size=3, Index=consumers, Active=True\n",
      "    Key : Lower : Body            : Upper : Active\n",
      "      1 :  20.0 : x[1,1] + x[2,1] :  20.0 :   True\n",
      "      2 :  30.0 : x[1,2] + x[2,2] :  30.0 :   True\n",
      "      3 :  10.0 : x[1,3] + x[2,3] :  10.0 :   True\n"
     ]
    }
   ],
   "source": [
    "model.demand_cons.pprint()"
   ]
  },
  {
   "cell_type": "code",
   "execution_count": 13,
   "metadata": {},
   "outputs": [
    {
     "name": "stdout",
     "output_type": "stream",
     "text": [
      "x : Size=6, Index=x_index\n",
      "    Key    : Lower : Value : Upper : Fixed : Stale : Domain\n",
      "    (1, 1) :     0 :  20.0 :  None : False : False : NonNegativeReals\n",
      "    (1, 2) :     0 :   0.0 :  None : False : False : NonNegativeReals\n",
      "    (1, 3) :     0 :   5.0 :  None : False : False : NonNegativeReals\n",
      "    (2, 1) :     0 :   0.0 :  None : False : False : NonNegativeReals\n",
      "    (2, 2) :     0 :  30.0 :  None : False : False : NonNegativeReals\n",
      "    (2, 3) :     0 :   5.0 :  None : False : False : NonNegativeReals\n"
     ]
    }
   ],
   "source": [
    "model.x.display()"
   ]
  },
  {
   "cell_type": "code",
   "execution_count": 14,
   "metadata": {},
   "outputs": [
    {
     "name": "stdout",
     "output_type": "stream",
     "text": [
      "obj : Size=1, Index=None, Active=True\n",
      "    Key  : Active : Value\n",
      "    None :   True : 180.0\n"
     ]
    }
   ],
   "source": [
    "model.obj.display()"
   ]
  }
 ],
 "metadata": {
  "kernelspec": {
   "display_name": "Python 3",
   "language": "python",
   "name": "python3"
  },
  "language_info": {
   "codemirror_mode": {
    "name": "ipython",
    "version": 3
   },
   "file_extension": ".py",
   "mimetype": "text/x-python",
   "name": "python",
   "nbconvert_exporter": "python",
   "pygments_lexer": "ipython3",
   "version": "3.7.7"
  }
 },
 "nbformat": 4,
 "nbformat_minor": 4
}
