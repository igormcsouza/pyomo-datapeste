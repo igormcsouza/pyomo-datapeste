{
 "cells": [
  {
   "cell_type": "markdown",
   "metadata": {},
   "source": [
    "# Otimização Usando Pyomo\n",
    "\n",
    "Neste exemplo vamos ver em um exemplo do problema da dieta as bases do Pyomo!"
   ]
  },
  {
   "cell_type": "markdown",
   "metadata": {},
   "source": [
    "## Explicação do Problema\n",
    "\n",
    "O problema da Dieta é muito simples de entender, pode ser aplicado a dieta do ser humano ou do animal. Na pecuária tem grande área de atuação.\n",
    "\n",
    "Imagine um problema em que é dados varios tipos de alimentos e suas informações nutricionais e preço, o que se quer pe uma combinação desses alimentos que traga o menor valor, mas que atenda as necessidades nutricionais daquele grupo."
   ]
  },
  {
   "cell_type": "markdown",
   "metadata": {},
   "source": [
    "Uma fazenda está produzindo ração animal para seu Gado, neste processo eles encontraram os alimentos M e N. Ambos os alimentos possuem valores nutricionais que são interessantes para esta fazendo, vamos chamar esses nutrientes de A, B, C, e D. A tabela com os valores nutricionais de cada alimento (em gramas) pode ser vista abaixo:"
   ]
  },
  {
   "cell_type": "markdown",
   "metadata": {},
   "source": [
    "![dietry-issue-table](img/dietry-issue-table.png)"
   ]
  },
  {
   "cell_type": "markdown",
   "metadata": {},
   "source": [
    "A dieta do Gado deve ser de por pelo menos 0,4 Kg do nutriente A, 0,6 Kg do nutriente B, 2 Kg do nutriente C, \n",
    "e 1,7 Kg do nutriente D. O alimento M custa 0,2 reais/Kg e o alimento N custa 0,08 reais/Kg. Qual é a quantidade que deve ser adquirida de ração M e N para que o gasto em alimentos seja o menor possível?"
   ]
  },
  {
   "cell_type": "code",
   "execution_count": 1,
   "metadata": {},
   "outputs": [],
   "source": [
    "import pyomo.environ as pyEnv"
   ]
  },
  {
   "cell_type": "code",
   "execution_count": 2,
   "metadata": {},
   "outputs": [],
   "source": [
    "model = pyEnv.ConcreteModel()"
   ]
  },
  {
   "cell_type": "markdown",
   "metadata": {},
   "source": [
    "As variáveis dessa função será M e N, correspondendo as quantidades em kilos de dos alimentos M e N respectivamente."
   ]
  },
  {
   "cell_type": "code",
   "execution_count": 3,
   "metadata": {},
   "outputs": [],
   "source": [
    "model.m = pyEnv.Var(within=pyEnv.NonNegativeReals)\n",
    "model.n = pyEnv.Var(within=pyEnv.NonNegativeReals)"
   ]
  },
  {
   "cell_type": "markdown",
   "metadata": {},
   "source": [
    "As restrições desse problema são as quantidades minimas de cada nutriente. Independentemente da quantidade de M e N, os valores nutricionais devem ser mantidos."
   ]
  },
  {
   "cell_type": "code",
   "execution_count": 4,
   "metadata": {},
   "outputs": [],
   "source": [
    "model.constA = pyEnv.Constraint(rule=lambda model: (0.1*model.m >= 0.4))\n",
    "model.constB = pyEnv.Constraint(rule=lambda model: (0.1*model.n >= 0.6))\n",
    "model.constC = pyEnv.Constraint(rule=lambda model: (0.1*model.m + 0.2*model.n >= 2))\n",
    "model.constD = pyEnv.Constraint(rule=lambda model: (0.2*model.m + 0.1*model.n >= 1.7))"
   ]
  },
  {
   "cell_type": "markdown",
   "metadata": {},
   "source": [
    "A função objetivo deve ser então a soma dos gastos com dada alimento. O que queremos é minimizar essa função."
   ]
  },
  {
   "cell_type": "code",
   "execution_count": 5,
   "metadata": {},
   "outputs": [],
   "source": [
    "model.obj = pyEnv.Objective(rule=lambda model: 0.2*model.m + 0.08*model.n, sense=pyEnv.minimize)"
   ]
  },
  {
   "cell_type": "markdown",
   "metadata": {},
   "source": [
    "Com o modelo pronto podemos agora resolve-los usando nossa GLPK. Essa etapa se consiste em jogar o modelo dentro da técnica de resolução, que no caso, se chama simplex e está dentro do GLPK."
   ]
  },
  {
   "cell_type": "code",
   "execution_count": 6,
   "metadata": {},
   "outputs": [],
   "source": [
    "opt = pyEnv.SolverFactory(\"glpk\")\n",
    "results = opt.solve(model)"
   ]
  },
  {
   "cell_type": "markdown",
   "metadata": {},
   "source": [
    "Mostrando os resultados..."
   ]
  },
  {
   "cell_type": "code",
   "execution_count": 7,
   "metadata": {},
   "outputs": [
    {
     "name": "stdout",
     "output_type": "stream",
     "text": [
      "Model unknown\n",
      "\n",
      "  Variables:\n",
      "    m : Size=1, Index=None\n",
      "        Key  : Lower : Value : Upper : Fixed : Stale : Domain\n",
      "        None :     0 :   4.0 :  None : False : False : NonNegativeReals\n",
      "    n : Size=1, Index=None\n",
      "        Key  : Lower : Value : Upper : Fixed : Stale : Domain\n",
      "        None :     0 :   9.0 :  None : False : False : NonNegativeReals\n",
      "\n",
      "  Objectives:\n",
      "    obj : Size=1, Index=None, Active=True\n",
      "        Key  : Active : Value\n",
      "        None :   True :  1.52\n",
      "\n",
      "  Constraints:\n",
      "    constA : Size=1\n",
      "        Key  : Lower : Body : Upper\n",
      "        None :   0.4 :  0.4 :  None\n",
      "    constB : Size=1\n",
      "        Key  : Lower : Body : Upper\n",
      "        None :   0.6 :  0.9 :  None\n",
      "    constC : Size=1\n",
      "        Key  : Lower : Body : Upper\n",
      "        None :   2.0 :  2.2 :  None\n",
      "    constD : Size=1\n",
      "        Key  : Lower : Body               : Upper\n",
      "        None :   1.7 : 1.7000000000000002 :  None\n"
     ]
    }
   ],
   "source": [
    "model.display()"
   ]
  },
  {
   "cell_type": "markdown",
   "metadata": {},
   "source": [
    "O resultado desse problema pode ser abstraido desse resumo acima. Se obtivermos 4 kilos do Alimento M e 9 kilos do Alimento N. Desta forma, todas os valores nutricionais serão atendidos."
   ]
  },
  {
   "cell_type": "markdown",
   "metadata": {},
   "source": [
    "#### Igor Souza e Helano Pessoa - Otimização Matemática usando Pyomo"
   ]
  }
 ],
 "metadata": {
  "kernelspec": {
   "display_name": "Python 3",
   "language": "python",
   "name": "python3"
  },
  "language_info": {
   "codemirror_mode": {
    "name": "ipython",
    "version": 3
   },
   "file_extension": ".py",
   "mimetype": "text/x-python",
   "name": "python",
   "nbconvert_exporter": "python",
   "pygments_lexer": "ipython3",
   "version": "3.6.9"
  }
 },
 "nbformat": 4,
 "nbformat_minor": 4
}
