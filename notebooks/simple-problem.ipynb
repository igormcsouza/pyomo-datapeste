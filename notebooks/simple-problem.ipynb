{
 "cells": [
  {
   "cell_type": "markdown",
   "metadata": {},
   "source": [
    "# Otimização Usando Pyomo\n",
    "\n",
    "Neste exemplo vamos ver em um exemplo bem simples as bases do Pyomo!"
   ]
  },
  {
   "cell_type": "markdown",
   "metadata": {},
   "source": [
    "## A problemática"
   ]
  },
  {
   "cell_type": "markdown",
   "metadata": {},
   "source": [
    "Esta problemática se resume em achar a solução para o seguinte problema de produção:\n",
    "    \n",
    "Uma empresa produz 2 produtos, que vamos chamar de X e Y. Para produzir X a empresa gasta 20 horas de produção e a\n",
    "demanda deste produto é cerca de 40 unidades anuais, a unidade deste produto rende 1000 reais para a empresa.\n",
    "Já para o produto Y, são necessárias 30 horas para produzi-lo e a demanda é de 30 unidades anuais, cada unidade\n",
    "dando um lucro de 1800 reais para a empresa. A empresa como um todo dispõe apenas de 1200 horas de produção anual\n",
    "para qualquer um dos produtos X ou Y.\n",
    "\n",
    "Agora precisamos de um modelo de produção que nos ajude a ver quantas unidades de X e quantas unidades de Y a dita\n",
    "empresa irá produzir dentro daquele ano para ter o maior lucro possível. E qual será esse lucro."
   ]
  },
  {
   "cell_type": "markdown",
   "metadata": {},
   "source": [
    "## A resolução"
   ]
  },
  {
   "cell_type": "markdown",
   "metadata": {},
   "source": [
    "Esse é um proplema clássico de planejamento da produção usando otimização matemática. Para resolvermos usando Pyomo\n",
    "vamos precisar primeiro modelar o problema matematicamente. Precisaremos encontrar as variáveis do problema, \n",
    "a função objetivo e as restrições do conjunto. Abaixo vamos importar o Pyomo e então fazer a modelagem do problema."
   ]
  },
  {
   "cell_type": "code",
   "execution_count": 3,
   "metadata": {},
   "outputs": [],
   "source": [
    "import pyomo.environ as pyEnv"
   ]
  },
  {
   "cell_type": "markdown",
   "metadata": {},
   "source": [
    "Vamos agora iniciar o nosso modelo matemático no pyomo, aqui vamos usar o `ConcreteModel()`. "
   ]
  },
  {
   "cell_type": "code",
   "execution_count": 6,
   "metadata": {},
   "outputs": [],
   "source": [
    "model = pyEnv.ConcreteModel()"
   ]
  },
  {
   "cell_type": "markdown",
   "metadata": {},
   "source": [
    "### Variáveis\n",
    "\n",
    "O problema pode ser modelado da seguinte forma:\n",
    "\n",
    "X -> Variável responsável pelas unidades produzidas de X\n",
    "\n",
    "Y -> Variável responsável pelas unidades produzidas de Y\n",
    "\n",
    "As regiões de possíveis soluções está nos Reais não negativos. Geralmente os problemas não admitem valores negativos para as variáveis, pois não faz sentido ter uma unidade negativa. Outros modelos já admitem esse comportamento, tudo só depende do que você está modelando."
   ]
  },
  {
   "cell_type": "code",
   "execution_count": 8,
   "metadata": {},
   "outputs": [],
   "source": [
    "model.x = pyEnv.Var(within=pyEnv.NonNegativeReals)\n",
    "model.y = pyEnv.Var(within=pyEnv.NonNegativeReals)"
   ]
  },
  {
   "cell_type": "markdown",
   "metadata": {},
   "source": [
    "### Restrições\n",
    "\n",
    "Agora nós vamos modelar as restrições do problema. As restrições vamo limitar meu conjunto solução, sem essa limitação talvez não exista uma solução bem definida.\n",
    "\n",
    "1) Restrição de tempo: Sabemos que a empresa não tem todo o tempo do mundo para produzir X e Y, lembrando que leva\n",
    "20h para produzir X e 30 para produzir Y, o total de tempo de produção de ambos não pode ultrapassar 1200"
   ]
  },
  {
   "cell_type": "code",
   "execution_count": 9,
   "metadata": {},
   "outputs": [],
   "source": [
    "model.const1 = pyEnv.Constraint(rule=lambda model: (20*model.x + 30*model.y <= 1200))"
   ]
  },
  {
   "cell_type": "markdown",
   "metadata": {},
   "source": [
    "2) A demanda para os produtos X e Y limitam minha produção, por que se eu produzir mais do que a demanda então\n",
    "esses produtos não serão vendidos, forçando a empresa a fazer estoque, o que para nosso problema não é bom"
   ]
  },
  {
   "cell_type": "code",
   "execution_count": 10,
   "metadata": {},
   "outputs": [],
   "source": [
    "model.const2A = pyEnv.Constraint(rule=lambda model: (model.x <= 40))\n",
    "model.const2B = pyEnv.Constraint(rule=lambda model: (model.y <= 30))"
   ]
  },
  {
   "cell_type": "markdown",
   "metadata": {},
   "source": [
    "### Função Objetivo\n",
    "\n",
    "A parte mais importante do problema é a função objetivo, a função que vamos tentar otimizar. Nosso objetivo é\n",
    "maximizar o lucro, que é dado pela quantidade produzida de X e Y"
   ]
  },
  {
   "cell_type": "code",
   "execution_count": 13,
   "metadata": {},
   "outputs": [],
   "source": [
    "model.obj = pyEnv.Objective(rule=lambda model: 1000*model.x + 1800*model.y, sense=pyEnv.maximize)"
   ]
  },
  {
   "cell_type": "markdown",
   "metadata": {},
   "source": [
    "### Resolução\n",
    "\n",
    "O modelo está pronto agora nós só precisamos resolve-los. Vamos fazer isso usando uma classe do Pyomo chamada\n",
    "`SolverFactory()` que vai conectar nosso modelo ao resolvedor externo. Esse resolvedor pode ser o `GLPK` ou `CPLEX`"
   ]
  },
  {
   "cell_type": "code",
   "execution_count": 15,
   "metadata": {},
   "outputs": [],
   "source": [
    "opt = pyEnv.SolverFactory(\"glpk\")\n",
    "results = opt.solve(model)"
   ]
  },
  {
   "cell_type": "markdown",
   "metadata": {},
   "source": [
    "A solução está pronta! Agora vamos printar nossas respostas de uma maneira mais inteligente"
   ]
  },
  {
   "cell_type": "code",
   "execution_count": 19,
   "metadata": {},
   "outputs": [
    {
     "name": "stdout",
     "output_type": "stream",
     "text": [
      "Model unknown\n",
      "\n",
      "  Variables:\n",
      "    x : Size=1, Index=None\n",
      "        Key  : Lower : Value : Upper : Fixed : Stale : Domain\n",
      "        None :     0 :  15.0 :  None : False : False : NonNegativeReals\n",
      "    y : Size=1, Index=None\n",
      "        Key  : Lower : Value : Upper : Fixed : Stale : Domain\n",
      "        None :     0 :  30.0 :  None : False : False : NonNegativeReals\n",
      "\n",
      "  Objectives:\n",
      "    obj : Size=1, Index=None, Active=True\n",
      "        Key  : Active : Value\n",
      "        None :   True : 69000.0\n",
      "\n",
      "  Constraints:\n",
      "    const1 : Size=1\n",
      "        Key  : Lower : Body   : Upper\n",
      "        None :  None : 1200.0 : 1200.0\n",
      "    const2A : Size=1\n",
      "        Key  : Lower : Body : Upper\n",
      "        None :  None : 15.0 :  40.0\n",
      "    const2B : Size=1\n",
      "        Key  : Lower : Body : Upper\n",
      "        None :  None : 30.0 :  30.0\n"
     ]
    }
   ],
   "source": [
    "model.display()"
   ]
  },
  {
   "cell_type": "markdown",
   "metadata": {},
   "source": [
    "Nossos valores ótimos para o problema é 15 unidades de X, 30 unidades de Y, retornando um lucro de 69mil reais\n",
    "para a empresa. Como podemos ver também todas as restrições foram atendidasme 100% da capacidade produtiva foi\n",
    "utilizada! Então esse modelo está muito bom!"
   ]
  },
  {
   "cell_type": "markdown",
   "metadata": {},
   "source": [
    "#### Igor Souza e Helano Pessoa - Otimização Matemática usando Pyomo"
   ]
  }
 ],
 "metadata": {
  "kernelspec": {
   "display_name": "Python 3",
   "language": "python",
   "name": "python3"
  },
  "language_info": {
   "codemirror_mode": {
    "name": "ipython",
    "version": 3
   },
   "file_extension": ".py",
   "mimetype": "text/x-python",
   "name": "python",
   "nbconvert_exporter": "python",
   "pygments_lexer": "ipython3",
   "version": "3.6.9"
  }
 },
 "nbformat": 4,
 "nbformat_minor": 4
}
